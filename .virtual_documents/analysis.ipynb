

















import pandas as pd


df = pd.read_csv('iris.csv', sep =",") # Reading data from a csv file


df


df.head(10) # First 10 rows


df.tail(10) # Last 10 rows


df.sample(10) # Random 10 rows


df.info() # Information about columns in DataFrame


df.describe() # Summary of all numeric columns





df.nunique() # Unique values in each column


df.sort_values(by = "sepal length") # Sorting DataFrame by column "sepal length", ascending


df.sort_values(by = "sepal length", ascending = False) # Sorting DataFrame by column "sepal length", descending





df2 = df[df["sepal length"] > 5.8] # Only flowers with sepal length above 5.8 cm (median for the entire dataset)


df2





df3 = df[df["sepal length"] < 5.8] # Only flowers with sepal length below 5.8 cm (median for the entire dataset)


df3


df4 = df[(df["sepal length"] > 5.8) & (df["sepal width"] > 3.0)]
""" Only flowers with a sepal length of over 5.8 cm (median) and a sepal width of over 3 cm (median)"""


df4





df.iloc[70:80] # Only rows from 70 to 80


df.iloc[100] # Only row 100


df.isnull().sum() # Checking if there is any missing data





df[df.duplicated()] # A list of duplicate rows





df5 = df.drop_duplicates(subset=["sepal length", "sepal width", "petal length", "petal width"]) 
""" Removing duplicates from numeric columns """


df5 # DataFrame without any duplicates


df.hist(); # Histograms for all the data


df5.hist(); # Histograms for the data without duplicates


df5["sepal length"].hist(bins=4); # Histogram for the column "sepal length"





df5["sepal width"].hist(bins=3); # Histogram for the column "sepal width"





df5["petal length"].hist(bins=4); # Histogram for the column "petal length"





df5["petal width"].hist(bins=3); # Histogram for the column "petal width"





df5.plot(kind='scatter', x="class", y='sepal length');  # Scatter plot for the column "sepal length"





df5.plot(kind='scatter', x="class", y='sepal width'); # Scatter plot for the column "sepal width"





df5.plot(kind='scatter', x="class", y='petal length'); # Scatter plot for the column "petal length"





df5.plot(kind='scatter', x="class", y='petal width'); # Scatter plot for the column "petal width"





df5.describe() 



