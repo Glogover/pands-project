














import pandas as pd


df = pd.read_csv('iris.csv', sep =",") # Reading data from a csv file


df



