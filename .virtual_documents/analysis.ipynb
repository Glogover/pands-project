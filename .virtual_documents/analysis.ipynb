

















import pandas as pd


df = pd.read_csv('iris.csv', sep =",") # Reading data from a csv file


df


df.head(10) # First 10 rows


df.tail(10) # Last 10 rows


df.sample(10) # Random 10 rows


df.info() # Information about columns in DataFrame


df.describe() # Summary of all numeric columns





df.nunique() # Unique values in each column


df.sort_values(by = "sepal length") # Sorting DataFrame by column "sepal length", ascending


df.sort_values(by = "sepal length", ascending = False) # Sorting DataFrame by column "sepal length", descending





df2 = df[df["sepal length"] > 5.8] # Only flowers with sepal length above 5.8 cm (median for the entire dataset)


df2





df3 = df[df["sepal length"] < 5.8]


df3



